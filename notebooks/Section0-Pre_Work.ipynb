{
 "cells": [
  {
   "cell_type": "markdown",
   "metadata": {},
   "source": [
    "# Pre-Work"
   ]
  },
  {
   "cell_type": "markdown",
   "metadata": {},
   "source": [
    "As a first step, import some of the libraries we will be using in the course. This will test that everything is installed correctly on your system. Running the cell below should not return errors."
   ]
  },
  {
   "cell_type": "code",
   "execution_count": 1,
   "metadata": {},
   "outputs": [
    {
     "name": "stdout",
     "output_type": "stream",
     "text": [
      "All packages imported successfully!\n"
     ]
    }
   ],
   "source": [
    "import numpy as np\n",
    "import scipy as sp\n",
    "import torch\n",
    "import gpytorch\n",
    "from matplotlib import pyplot as plt\n",
    "import pandas as pd\n",
    "import pymc3 as pm\n",
    "import sklearn as sk\n",
    "import seaborn as sns\n",
    "\n",
    "print('All packages imported successfully!')"
   ]
  },
  {
   "cell_type": "markdown",
   "metadata": {},
   "source": [
    "If everything was imported, you are ready to work through the exercises below."
   ]
  },
  {
   "cell_type": "markdown",
   "metadata": {},
   "source": [
    "## Data Import and Manipulation\n",
    "\n",
    "Loading and processing data has become easier since the development of the `pandas` library, which provides data structures and functions for automating key data operations. \n",
    "\n",
    "For importing data from most common storage formats, several `read_*` functions are available."
   ]
  },
  {
   "cell_type": "code",
   "execution_count": 2,
   "metadata": {},
   "outputs": [
    {
     "data": {
      "text/plain": [
       "['read_clipboard',\n",
       " 'read_csv',\n",
       " 'read_excel',\n",
       " 'read_feather',\n",
       " 'read_fwf',\n",
       " 'read_gbq',\n",
       " 'read_hdf',\n",
       " 'read_html',\n",
       " 'read_json',\n",
       " 'read_msgpack',\n",
       " 'read_parquet',\n",
       " 'read_pickle',\n",
       " 'read_sas',\n",
       " 'read_spss',\n",
       " 'read_sql',\n",
       " 'read_sql_query',\n",
       " 'read_sql_table',\n",
       " 'read_stata',\n",
       " 'read_table']"
      ]
     },
     "execution_count": 2,
     "metadata": {},
     "output_type": "execute_result"
    }
   ],
   "source": [
    "[f for f in dir(pd) if f.startswith('read_')]"
   ]
  },
  {
   "cell_type": "markdown",
   "metadata": {},
   "source": [
    "The `../data/` subdirectory includes some clinical trial data in `cdystonia.csv`. Choose the appropriate function and use it to import this data to a variable called `cdystonia`. Print the first 15 lines of the resulting `DataFrame`."
   ]
  },
  {
   "cell_type": "code",
   "execution_count": 8,
   "metadata": {},
   "outputs": [
    {
     "data": {
      "text/html": [
       "<div>\n",
       "<style scoped>\n",
       "    .dataframe tbody tr th:only-of-type {\n",
       "        vertical-align: middle;\n",
       "    }\n",
       "\n",
       "    .dataframe tbody tr th {\n",
       "        vertical-align: top;\n",
       "    }\n",
       "\n",
       "    .dataframe thead th {\n",
       "        text-align: right;\n",
       "    }\n",
       "</style>\n",
       "<table border=\"1\" class=\"dataframe\">\n",
       "  <thead>\n",
       "    <tr style=\"text-align: right;\">\n",
       "      <th></th>\n",
       "      <th>patient</th>\n",
       "      <th>obs</th>\n",
       "      <th>week</th>\n",
       "      <th>site</th>\n",
       "      <th>id</th>\n",
       "      <th>treat</th>\n",
       "      <th>age</th>\n",
       "      <th>sex</th>\n",
       "      <th>twstrs</th>\n",
       "    </tr>\n",
       "  </thead>\n",
       "  <tbody>\n",
       "    <tr>\n",
       "      <td>0</td>\n",
       "      <td>1</td>\n",
       "      <td>1</td>\n",
       "      <td>0</td>\n",
       "      <td>1</td>\n",
       "      <td>1</td>\n",
       "      <td>5000U</td>\n",
       "      <td>65</td>\n",
       "      <td>F</td>\n",
       "      <td>32</td>\n",
       "    </tr>\n",
       "    <tr>\n",
       "      <td>1</td>\n",
       "      <td>1</td>\n",
       "      <td>2</td>\n",
       "      <td>2</td>\n",
       "      <td>1</td>\n",
       "      <td>1</td>\n",
       "      <td>5000U</td>\n",
       "      <td>65</td>\n",
       "      <td>F</td>\n",
       "      <td>30</td>\n",
       "    </tr>\n",
       "    <tr>\n",
       "      <td>2</td>\n",
       "      <td>1</td>\n",
       "      <td>3</td>\n",
       "      <td>4</td>\n",
       "      <td>1</td>\n",
       "      <td>1</td>\n",
       "      <td>5000U</td>\n",
       "      <td>65</td>\n",
       "      <td>F</td>\n",
       "      <td>24</td>\n",
       "    </tr>\n",
       "    <tr>\n",
       "      <td>3</td>\n",
       "      <td>1</td>\n",
       "      <td>4</td>\n",
       "      <td>8</td>\n",
       "      <td>1</td>\n",
       "      <td>1</td>\n",
       "      <td>5000U</td>\n",
       "      <td>65</td>\n",
       "      <td>F</td>\n",
       "      <td>37</td>\n",
       "    </tr>\n",
       "    <tr>\n",
       "      <td>4</td>\n",
       "      <td>1</td>\n",
       "      <td>5</td>\n",
       "      <td>12</td>\n",
       "      <td>1</td>\n",
       "      <td>1</td>\n",
       "      <td>5000U</td>\n",
       "      <td>65</td>\n",
       "      <td>F</td>\n",
       "      <td>39</td>\n",
       "    </tr>\n",
       "    <tr>\n",
       "      <td>5</td>\n",
       "      <td>1</td>\n",
       "      <td>6</td>\n",
       "      <td>16</td>\n",
       "      <td>1</td>\n",
       "      <td>1</td>\n",
       "      <td>5000U</td>\n",
       "      <td>65</td>\n",
       "      <td>F</td>\n",
       "      <td>36</td>\n",
       "    </tr>\n",
       "    <tr>\n",
       "      <td>6</td>\n",
       "      <td>2</td>\n",
       "      <td>1</td>\n",
       "      <td>0</td>\n",
       "      <td>1</td>\n",
       "      <td>2</td>\n",
       "      <td>10000U</td>\n",
       "      <td>70</td>\n",
       "      <td>F</td>\n",
       "      <td>60</td>\n",
       "    </tr>\n",
       "    <tr>\n",
       "      <td>7</td>\n",
       "      <td>2</td>\n",
       "      <td>2</td>\n",
       "      <td>2</td>\n",
       "      <td>1</td>\n",
       "      <td>2</td>\n",
       "      <td>10000U</td>\n",
       "      <td>70</td>\n",
       "      <td>F</td>\n",
       "      <td>26</td>\n",
       "    </tr>\n",
       "    <tr>\n",
       "      <td>8</td>\n",
       "      <td>2</td>\n",
       "      <td>3</td>\n",
       "      <td>4</td>\n",
       "      <td>1</td>\n",
       "      <td>2</td>\n",
       "      <td>10000U</td>\n",
       "      <td>70</td>\n",
       "      <td>F</td>\n",
       "      <td>27</td>\n",
       "    </tr>\n",
       "    <tr>\n",
       "      <td>9</td>\n",
       "      <td>2</td>\n",
       "      <td>4</td>\n",
       "      <td>8</td>\n",
       "      <td>1</td>\n",
       "      <td>2</td>\n",
       "      <td>10000U</td>\n",
       "      <td>70</td>\n",
       "      <td>F</td>\n",
       "      <td>41</td>\n",
       "    </tr>\n",
       "    <tr>\n",
       "      <td>10</td>\n",
       "      <td>2</td>\n",
       "      <td>5</td>\n",
       "      <td>12</td>\n",
       "      <td>1</td>\n",
       "      <td>2</td>\n",
       "      <td>10000U</td>\n",
       "      <td>70</td>\n",
       "      <td>F</td>\n",
       "      <td>65</td>\n",
       "    </tr>\n",
       "    <tr>\n",
       "      <td>11</td>\n",
       "      <td>2</td>\n",
       "      <td>6</td>\n",
       "      <td>16</td>\n",
       "      <td>1</td>\n",
       "      <td>2</td>\n",
       "      <td>10000U</td>\n",
       "      <td>70</td>\n",
       "      <td>F</td>\n",
       "      <td>67</td>\n",
       "    </tr>\n",
       "    <tr>\n",
       "      <td>12</td>\n",
       "      <td>3</td>\n",
       "      <td>1</td>\n",
       "      <td>0</td>\n",
       "      <td>1</td>\n",
       "      <td>3</td>\n",
       "      <td>5000U</td>\n",
       "      <td>64</td>\n",
       "      <td>F</td>\n",
       "      <td>44</td>\n",
       "    </tr>\n",
       "    <tr>\n",
       "      <td>13</td>\n",
       "      <td>3</td>\n",
       "      <td>2</td>\n",
       "      <td>2</td>\n",
       "      <td>1</td>\n",
       "      <td>3</td>\n",
       "      <td>5000U</td>\n",
       "      <td>64</td>\n",
       "      <td>F</td>\n",
       "      <td>20</td>\n",
       "    </tr>\n",
       "    <tr>\n",
       "      <td>14</td>\n",
       "      <td>3</td>\n",
       "      <td>3</td>\n",
       "      <td>4</td>\n",
       "      <td>1</td>\n",
       "      <td>3</td>\n",
       "      <td>5000U</td>\n",
       "      <td>64</td>\n",
       "      <td>F</td>\n",
       "      <td>23</td>\n",
       "    </tr>\n",
       "  </tbody>\n",
       "</table>\n",
       "</div>"
      ],
      "text/plain": [
       "    patient  obs  week  site  id   treat  age sex  twstrs\n",
       "0         1    1     0     1   1   5000U   65   F      32\n",
       "1         1    2     2     1   1   5000U   65   F      30\n",
       "2         1    3     4     1   1   5000U   65   F      24\n",
       "3         1    4     8     1   1   5000U   65   F      37\n",
       "4         1    5    12     1   1   5000U   65   F      39\n",
       "5         1    6    16     1   1   5000U   65   F      36\n",
       "6         2    1     0     1   2  10000U   70   F      60\n",
       "7         2    2     2     1   2  10000U   70   F      26\n",
       "8         2    3     4     1   2  10000U   70   F      27\n",
       "9         2    4     8     1   2  10000U   70   F      41\n",
       "10        2    5    12     1   2  10000U   70   F      65\n",
       "11        2    6    16     1   2  10000U   70   F      67\n",
       "12        3    1     0     1   3   5000U   64   F      44\n",
       "13        3    2     2     1   3   5000U   64   F      20\n",
       "14        3    3     4     1   3   5000U   64   F      23"
      ]
     },
     "execution_count": 8,
     "metadata": {},
     "output_type": "execute_result"
    }
   ],
   "source": [
    "# Choose the appropriate function to read `../data/cdystonia.csv` into a variable called `cdystonia`\n",
    "# Print the first 15 lines of the `DataFrame` `cdystonia`\n",
    "fpath_data = '../data/cdystonia.csv'\n",
    "# !head '../data/cdystonia.csv'\n",
    "cdystonia = pd.read_csv(fpath_data)\n",
    "cdystonia[0:15]"
   ]
  },
  {
   "cell_type": "markdown",
   "metadata": {},
   "source": [
    "This dataset is from [Statistical Methods for the Analysis of Repeated Measurements](http://www.amazon.com/Statistical-Methods-Analysis-Repeated-Measurements/dp/0387953701) by Charles S. Davis, pp. 161-163 (Springer, 2002). These data are from a multicenter, randomized controlled trial of botulinum toxin type B (BotB) in patients with cervical dystonia from nine U.S. sites.\n",
    "\n",
    "Patients were randomized to placebo (N=36), 5000 units of BotB (N=36), or 10,000 units of BotB (N=37). The response variable is the total score on Toronto Western Spasmodic Torticollis Rating Scale (TWSTRS), measuring severity, pain, and disability of cervical dystonia (high scores mean more impairment). TWSTRS was measured at baseline (week 0) and weeks 2, 4, 8, 12, 16 after treatment began, so this is a longitudinal study."
   ]
  },
  {
   "cell_type": "markdown",
   "metadata": {},
   "source": [
    "1. Since there are repeated measures of each patient, the `patient` column alone cannot be used as an index, because it is not unique. Use some of the columns in the DataFrame to create an index for the data that is unique."
   ]
  },
  {
   "cell_type": "code",
   "execution_count": 9,
   "metadata": {},
   "outputs": [
    {
     "name": "stdout",
     "output_type": "stream",
     "text": [
      "Uniqueness:\n",
      "\t['patient']: \tFalse\n",
      "\t['patient', 'obs']: \tTrue\n",
      "\t['patient', 'week']: \tTrue\n",
      "\t['patient', 'id']: \tFalse\n",
      "\t['patient', 'site']: \tFalse\n",
      "\t['id', 'obs']: \tFalse\n",
      "\t['id', 'week']: \tFalse\n",
      "\t['id', 'site', 'obs']: \tTrue\n"
     ]
    }
   ],
   "source": [
    "# Choose a column in addition to \"patient\" so that the two columns have unique values, and set those two to be the index.\n",
    "cols_to_try = [['patient'], ['patient','obs'], ['patient', 'week'], ['patient', 'id'], ['patient', 'site'], ['id', 'obs'], ['id', 'week'], ['id', 'site', 'obs']]\n",
    "print('Uniqueness:')\n",
    "for cols in cols_to_try:\n",
    "    print(f\"\\t{cols}: \\t{not cdystonia.reset_index()[cols].duplicated().any()}\")\n",
    "    \n",
    "# Choose patient/week because it's intuitive and because we want to use week in the next stage\n",
    "cdystonia = cdystonia.reset_index(drop=True).set_index(['patient','week'])"
   ]
  },
  {
   "cell_type": "markdown",
   "metadata": {},
   "source": [
    "2. The `cdystonia` dataset is stored in **long** format, meaning that each row contains a single observation. Use pandas functions and methods to change the data to **wide** format, where each row represents the data for a single patient. "
   ]
  },
  {
   "cell_type": "code",
   "execution_count": 20,
   "metadata": {},
   "outputs": [],
   "source": [
    "# Convert the data to a wide format, where each row represents the data for a single patient\n",
    "# want:\n",
    "# patient, site?, treat, age, sex, twstrs0, twstrs2, ..., twstrs16\n",
    "\n",
    "# First, widen the result column by unstacking by week\n",
    "w_cdystonia_outcomes = cdystonia['twstrs'].unstack('week').rename(columns=lambda x: f'twstrs_{x:d}')\n",
    "\n",
    "# Then extract the features per-patient - first ensuring that they're all static for a patient:\n",
    "# i.e. ensure that all patient features are per patient, not to the observation:\n",
    "patient_level_gb = cdystonia.drop(columns=['obs', 'twstrs']).groupby(level='patient')"
   ]
  },
  {
   "cell_type": "code",
   "execution_count": 22,
   "metadata": {},
   "outputs": [
    {
     "data": {
      "text/html": [
       "<div>\n",
       "<style scoped>\n",
       "    .dataframe tbody tr th:only-of-type {\n",
       "        vertical-align: middle;\n",
       "    }\n",
       "\n",
       "    .dataframe tbody tr th {\n",
       "        vertical-align: top;\n",
       "    }\n",
       "\n",
       "    .dataframe thead th {\n",
       "        text-align: right;\n",
       "    }\n",
       "</style>\n",
       "<table border=\"1\" class=\"dataframe\">\n",
       "  <thead>\n",
       "    <tr style=\"text-align: right;\">\n",
       "      <th></th>\n",
       "      <th>twstrs_0</th>\n",
       "      <th>twstrs_2</th>\n",
       "      <th>twstrs_4</th>\n",
       "      <th>twstrs_8</th>\n",
       "      <th>twstrs_12</th>\n",
       "      <th>twstrs_16</th>\n",
       "      <th>site</th>\n",
       "      <th>id</th>\n",
       "      <th>treat</th>\n",
       "      <th>age</th>\n",
       "      <th>sex</th>\n",
       "    </tr>\n",
       "    <tr>\n",
       "      <th>patient</th>\n",
       "      <th></th>\n",
       "      <th></th>\n",
       "      <th></th>\n",
       "      <th></th>\n",
       "      <th></th>\n",
       "      <th></th>\n",
       "      <th></th>\n",
       "      <th></th>\n",
       "      <th></th>\n",
       "      <th></th>\n",
       "      <th></th>\n",
       "    </tr>\n",
       "  </thead>\n",
       "  <tbody>\n",
       "    <tr>\n",
       "      <td>1</td>\n",
       "      <td>32.0</td>\n",
       "      <td>30.0</td>\n",
       "      <td>24.0</td>\n",
       "      <td>37.0</td>\n",
       "      <td>39.0</td>\n",
       "      <td>36.0</td>\n",
       "      <td>1</td>\n",
       "      <td>1</td>\n",
       "      <td>5000U</td>\n",
       "      <td>65</td>\n",
       "      <td>F</td>\n",
       "    </tr>\n",
       "    <tr>\n",
       "      <td>2</td>\n",
       "      <td>60.0</td>\n",
       "      <td>26.0</td>\n",
       "      <td>27.0</td>\n",
       "      <td>41.0</td>\n",
       "      <td>65.0</td>\n",
       "      <td>67.0</td>\n",
       "      <td>1</td>\n",
       "      <td>2</td>\n",
       "      <td>10000U</td>\n",
       "      <td>70</td>\n",
       "      <td>F</td>\n",
       "    </tr>\n",
       "    <tr>\n",
       "      <td>3</td>\n",
       "      <td>44.0</td>\n",
       "      <td>20.0</td>\n",
       "      <td>23.0</td>\n",
       "      <td>26.0</td>\n",
       "      <td>35.0</td>\n",
       "      <td>35.0</td>\n",
       "      <td>1</td>\n",
       "      <td>3</td>\n",
       "      <td>5000U</td>\n",
       "      <td>64</td>\n",
       "      <td>F</td>\n",
       "    </tr>\n",
       "    <tr>\n",
       "      <td>4</td>\n",
       "      <td>53.0</td>\n",
       "      <td>61.0</td>\n",
       "      <td>64.0</td>\n",
       "      <td>62.0</td>\n",
       "      <td>NaN</td>\n",
       "      <td>NaN</td>\n",
       "      <td>1</td>\n",
       "      <td>4</td>\n",
       "      <td>Placebo</td>\n",
       "      <td>59</td>\n",
       "      <td>F</td>\n",
       "    </tr>\n",
       "    <tr>\n",
       "      <td>5</td>\n",
       "      <td>53.0</td>\n",
       "      <td>35.0</td>\n",
       "      <td>48.0</td>\n",
       "      <td>49.0</td>\n",
       "      <td>41.0</td>\n",
       "      <td>51.0</td>\n",
       "      <td>1</td>\n",
       "      <td>5</td>\n",
       "      <td>10000U</td>\n",
       "      <td>76</td>\n",
       "      <td>F</td>\n",
       "    </tr>\n",
       "    <tr>\n",
       "      <td>...</td>\n",
       "      <td>...</td>\n",
       "      <td>...</td>\n",
       "      <td>...</td>\n",
       "      <td>...</td>\n",
       "      <td>...</td>\n",
       "      <td>...</td>\n",
       "      <td>...</td>\n",
       "      <td>...</td>\n",
       "      <td>...</td>\n",
       "      <td>...</td>\n",
       "      <td>...</td>\n",
       "    </tr>\n",
       "    <tr>\n",
       "      <td>105</td>\n",
       "      <td>45.0</td>\n",
       "      <td>46.0</td>\n",
       "      <td>33.0</td>\n",
       "      <td>44.0</td>\n",
       "      <td>46.0</td>\n",
       "      <td>48.0</td>\n",
       "      <td>9</td>\n",
       "      <td>7</td>\n",
       "      <td>Placebo</td>\n",
       "      <td>79</td>\n",
       "      <td>F</td>\n",
       "    </tr>\n",
       "    <tr>\n",
       "      <td>106</td>\n",
       "      <td>67.0</td>\n",
       "      <td>63.0</td>\n",
       "      <td>71.0</td>\n",
       "      <td>66.0</td>\n",
       "      <td>68.0</td>\n",
       "      <td>71.0</td>\n",
       "      <td>9</td>\n",
       "      <td>8</td>\n",
       "      <td>5000U</td>\n",
       "      <td>43</td>\n",
       "      <td>M</td>\n",
       "    </tr>\n",
       "    <tr>\n",
       "      <td>107</td>\n",
       "      <td>57.0</td>\n",
       "      <td>NaN</td>\n",
       "      <td>36.0</td>\n",
       "      <td>23.0</td>\n",
       "      <td>NaN</td>\n",
       "      <td>52.0</td>\n",
       "      <td>9</td>\n",
       "      <td>9</td>\n",
       "      <td>10000U</td>\n",
       "      <td>50</td>\n",
       "      <td>M</td>\n",
       "    </tr>\n",
       "    <tr>\n",
       "      <td>108</td>\n",
       "      <td>63.0</td>\n",
       "      <td>51.0</td>\n",
       "      <td>46.0</td>\n",
       "      <td>50.0</td>\n",
       "      <td>50.0</td>\n",
       "      <td>54.0</td>\n",
       "      <td>9</td>\n",
       "      <td>10</td>\n",
       "      <td>10000U</td>\n",
       "      <td>39</td>\n",
       "      <td>F</td>\n",
       "    </tr>\n",
       "    <tr>\n",
       "      <td>109</td>\n",
       "      <td>53.0</td>\n",
       "      <td>38.0</td>\n",
       "      <td>NaN</td>\n",
       "      <td>33.0</td>\n",
       "      <td>36.0</td>\n",
       "      <td>51.0</td>\n",
       "      <td>9</td>\n",
       "      <td>11</td>\n",
       "      <td>5000U</td>\n",
       "      <td>57</td>\n",
       "      <td>M</td>\n",
       "    </tr>\n",
       "  </tbody>\n",
       "</table>\n",
       "<p>109 rows × 11 columns</p>\n",
       "</div>"
      ],
      "text/plain": [
       "         twstrs_0  twstrs_2  twstrs_4  twstrs_8  twstrs_12  twstrs_16  site  \\\n",
       "patient                                                                       \n",
       "1            32.0      30.0      24.0      37.0       39.0       36.0     1   \n",
       "2            60.0      26.0      27.0      41.0       65.0       67.0     1   \n",
       "3            44.0      20.0      23.0      26.0       35.0       35.0     1   \n",
       "4            53.0      61.0      64.0      62.0        NaN        NaN     1   \n",
       "5            53.0      35.0      48.0      49.0       41.0       51.0     1   \n",
       "...           ...       ...       ...       ...        ...        ...   ...   \n",
       "105          45.0      46.0      33.0      44.0       46.0       48.0     9   \n",
       "106          67.0      63.0      71.0      66.0       68.0       71.0     9   \n",
       "107          57.0       NaN      36.0      23.0        NaN       52.0     9   \n",
       "108          63.0      51.0      46.0      50.0       50.0       54.0     9   \n",
       "109          53.0      38.0       NaN      33.0       36.0       51.0     9   \n",
       "\n",
       "         id    treat  age sex  \n",
       "patient                        \n",
       "1         1    5000U   65   F  \n",
       "2         2   10000U   70   F  \n",
       "3         3    5000U   64   F  \n",
       "4         4  Placebo   59   F  \n",
       "5         5   10000U   76   F  \n",
       "...      ..      ...  ...  ..  \n",
       "105       7  Placebo   79   F  \n",
       "106       8    5000U   43   M  \n",
       "107       9   10000U   50   M  \n",
       "108      10   10000U   39   F  \n",
       "109      11    5000U   57   M  \n",
       "\n",
       "[109 rows x 11 columns]"
      ]
     },
     "execution_count": 22,
     "metadata": {},
     "output_type": "execute_result"
    }
   ],
   "source": [
    "assert (patient_level_gb.nunique() == 1).all().all()\n",
    "\n",
    "# Now get the features per-patient by just taking the first for each...\n",
    "patient_features = patient_level_gb.first()\n",
    "\n",
    "# And finally, join the results to the features:\n",
    "w_cdystonia = w_cdystonia_outcomes.join(patient_features)\n",
    "assert cdystonia.reset_index()['patient'].nunique() == len(w_cdystonia)\n",
    "w_cdystonia"
   ]
  },
  {
   "cell_type": "markdown",
   "metadata": {},
   "source": [
    "3. To get an idea about the efficacy of the treatment, use `pandas` to group the data by treatment group, and calculate the mean and standard deviation of the `twstrs` outcome variable for each group in week 4."
   ]
  },
  {
   "cell_type": "code",
   "execution_count": 23,
   "metadata": {},
   "outputs": [
    {
     "data": {
      "text/html": [
       "<div>\n",
       "<style scoped>\n",
       "    .dataframe tbody tr th:only-of-type {\n",
       "        vertical-align: middle;\n",
       "    }\n",
       "\n",
       "    .dataframe tbody tr th {\n",
       "        vertical-align: top;\n",
       "    }\n",
       "\n",
       "    .dataframe thead th {\n",
       "        text-align: right;\n",
       "    }\n",
       "</style>\n",
       "<table border=\"1\" class=\"dataframe\">\n",
       "  <thead>\n",
       "    <tr style=\"text-align: right;\">\n",
       "      <th></th>\n",
       "      <th>mean</th>\n",
       "      <th>std</th>\n",
       "    </tr>\n",
       "    <tr>\n",
       "      <th>treat</th>\n",
       "      <th></th>\n",
       "      <th></th>\n",
       "    </tr>\n",
       "  </thead>\n",
       "  <tbody>\n",
       "    <tr>\n",
       "      <td>10000U</td>\n",
       "      <td>34.805556</td>\n",
       "      <td>12.188565</td>\n",
       "    </tr>\n",
       "    <tr>\n",
       "      <td>5000U</td>\n",
       "      <td>37.114286</td>\n",
       "      <td>15.311993</td>\n",
       "    </tr>\n",
       "    <tr>\n",
       "      <td>Placebo</td>\n",
       "      <td>39.342857</td>\n",
       "      <td>11.827045</td>\n",
       "    </tr>\n",
       "  </tbody>\n",
       "</table>\n",
       "</div>"
      ],
      "text/plain": [
       "              mean        std\n",
       "treat                        \n",
       "10000U   34.805556  12.188565\n",
       "5000U    37.114286  15.311993\n",
       "Placebo  39.342857  11.827045"
      ]
     },
     "execution_count": 23,
     "metadata": {},
     "output_type": "execute_result"
    }
   ],
   "source": [
    "# group the data by treatment group, and calculate the mean and standard deviation of the `twstrs` outcome variable for each group in week 4.\n",
    "# As a sanity check, this should be the answer here:\n",
    "\n",
    "#                mean       std\n",
    "# treat\n",
    "# 10000U         34.805556  12.188565\n",
    "# 5000U          37.114286  15.311993\n",
    "# Placebo        39.342857  11.827045\n",
    "\n",
    "w_cdystonia.groupby('treat')['twstrs_4'].agg(['mean', 'std'])"
   ]
  },
  {
   "cell_type": "markdown",
   "metadata": {},
   "source": [
    "4. Since this is a longitudinal study, graphics are helpful for understanding the dynamics of the experiment. Using the plotting package of your choice (there are many for Python!) create a set of plots showing how the response variable changes over time for each experimental group. "
   ]
  },
  {
   "cell_type": "code",
   "execution_count": 24,
   "metadata": {},
   "outputs": [
    {
     "data": {
      "text/plain": [
       "<matplotlib.axes._subplots.AxesSubplot at 0x7f9e837e6198>"
      ]
     },
     "execution_count": 24,
     "metadata": {},
     "output_type": "execute_result"
    },
    {
     "data": {
      "image/png": "[encoded data removed]",
      "text/plain": [
       "<Figure size 432x288 with 1 Axes>"
      ]
     },
     "metadata": {
      "needs_background": "light"
     },
     "output_type": "display_data"
    }
   ],
   "source": [
    "# create a set of plots showing how the response variable changes over time for each experimental group\n",
    "df = w_cdystonia.groupby('treat')[[c for c in w_cdystonia.columns if c.startswith('twstrs')]].mean().T#agg(['mean', 'std'])\n",
    "df.plot()"
   ]
  },
  {
   "cell_type": "markdown",
   "metadata": {},
   "source": [
    "## Linear Algebra"
   ]
  },
  {
   "cell_type": "markdown",
   "metadata": {},
   "source": [
    "\n",
    "Operations become much faster when we can express them as vectorized linear algebra commands. One example is generating multivariate normal distributions.\n",
    "\n",
    "Suppose we wish to generate samples with mean $\\mu$ and covariance $\\Sigma$, where $\\mu$ is $n \\times 1$ and $\\Sigma$ is $n \\times n$. One way to do this is to calculate a [*Cholesky decomposition*](https://en.wikipedia.org/wiki/Cholesky_decomposition) of $\\Sigma$, so that\n",
    "$$\n",
    "\\Sigma = LL^T.\n",
    "$$\n",
    "\n",
    "Then if $x$ is $n$ independent draws from a standard normal distribution, \n",
    "$$\n",
    "\\nu = Lx + \\mu \\sim \\mathcal{N}(\\mu, \\Sigma)\n",
    "$$\n",
    "\n",
    "### Exercises\n",
    "Let \n",
    "$$\n",
    "\\mu = (3, 2)\n",
    "$$\n",
    "and\n",
    "$$\n",
    "\\Sigma = \\left(\\begin{array}{cc}\n",
    "1 & 0.9 \\\\\n",
    "0.9 & 1\n",
    "\\end{array}\\right)\n",
    "$$\n",
    "\n",
    "1. Use `np.linalg.cholesky` to compute $L$, the Cholesky decomposition of $\\Sigma$\n",
    "2. In newer Python (3.6+), `@` is matrix multiplication. Confirm that $\\Sigma = LL^T$.\n",
    "3. Draw 2 independent draws from a standard normal using `x = np.random.randn(2)`, and compute $\\nu$ using `L @ x + mu`\n",
    "4. The above exercise generates 1 draw from a multivariate normal. Use `x = np.random.randn(2, 1_000)` and the same formula as above to generate 1,000 draws."
   ]
  },
  {
   "cell_type": "code",
   "execution_count": 26,
   "metadata": {},
   "outputs": [],
   "source": [
    "mu = np.array([[3], [2]])\n",
    "sigma = np.array([[1, 0.9], [0.9, 1]])"
   ]
  },
  {
   "cell_type": "code",
   "execution_count": 45,
   "metadata": {},
   "outputs": [
    {
     "data": {
      "text/plain": [
       "array([[1.        , 0.        ],\n",
       "       [0.9       , 0.43588989]])"
      ]
     },
     "execution_count": 45,
     "metadata": {},
     "output_type": "execute_result"
    }
   ],
   "source": [
    "# Use `np.linalg.cholesky` to compute $L$, the Cholesky decomposition of `sigma`\n",
    "L = np.linalg.cholesky(sigma)\n",
    "L"
   ]
  },
  {
   "cell_type": "code",
   "execution_count": 46,
   "metadata": {},
   "outputs": [],
   "source": [
    "# In newer Python (3.6+), `@` is matrix multiplication. Confirm that `sigma = L @ L.T`\n",
    "assert (L @ L.T == sigma).all()"
   ]
  },
  {
   "cell_type": "code",
   "execution_count": 47,
   "metadata": {},
   "outputs": [
    {
     "name": "stdout",
     "output_type": "stream",
     "text": [
      "[-0.34001977  0.68367915]\n",
      "[[2.65998023 2.99199104]\n",
      " [1.65998023 1.99199104]]\n"
     ]
    }
   ],
   "source": [
    "# Draw 2 independent draws from a standard normal using `x = np.random.randn(2)`, and compute `nu` using `L @ x + mu`\n",
    "x = np.random.randn(2)\n",
    "print(x)\n",
    "nu = L @ x + mu\n",
    "print(nu)"
   ]
  },
  {
   "cell_type": "code",
   "execution_count": 48,
   "metadata": {},
   "outputs": [
    {
     "data": {
      "text/plain": [
       "(2, 1000)"
      ]
     },
     "execution_count": 48,
     "metadata": {},
     "output_type": "execute_result"
    }
   ],
   "source": [
    "# The above exercise generates 1 draw from a multivariate normal. Use `x = np.random.randn(2, 1_000)` and the same formula as above to generate 1,000 draws\n",
    "x = np.random.randn(2, 1000)\n",
    "nu = L @ x + mu\n",
    "nu.shape"
   ]
  },
  {
   "cell_type": "markdown",
   "metadata": {},
   "source": [
    "# begin sidetrack"
   ]
  },
  {
   "cell_type": "code",
   "execution_count": 33,
   "metadata": {},
   "outputs": [
    {
     "data": {
      "text/plain": [
       "array([[1. , 0.9],\n",
       "       [0.9, 1. ]])"
      ]
     },
     "execution_count": 33,
     "metadata": {},
     "output_type": "execute_result"
    }
   ],
   "source": [
    "sigma"
   ]
  },
  {
   "cell_type": "code",
   "execution_count": 43,
   "metadata": {},
   "outputs": [
    {
     "data": {
      "text/plain": [
       "<matplotlib.axes._subplots.AxesSubplot at 0x7f9e837f17b8>"
      ]
     },
     "execution_count": 43,
     "metadata": {},
     "output_type": "execute_result"
    },
    {
     "data": {
      "image/png": "[encoded data removed]",
      "text/plain": [
       "<Figure size 432x288 with 1 Axes>"
      ]
     },
     "metadata": {
      "needs_background": "light"
     },
     "output_type": "display_data"
    }
   ],
   "source": [
    "df_ind = pd.DataFrame(np.random.randn(2, 1000).T, columns=['x1', 'x2'])\n",
    "df_ind.plot.scatter(x='x1', y='x2')"
   ]
  },
  {
   "cell_type": "code",
   "execution_count": 49,
   "metadata": {},
   "outputs": [
    {
     "data": {
      "text/plain": [
       "<matplotlib.axes._subplots.AxesSubplot at 0x7f9e8404a0f0>"
      ]
     },
     "execution_count": 49,
     "metadata": {},
     "output_type": "execute_result"
    },
    {
     "data": {
      "image/png": "[encoded data removed]",
      "text/plain": [
       "<Figure size 432x288 with 1 Axes>"
      ]
     },
     "metadata": {
      "needs_background": "light"
     },
     "output_type": "display_data"
    }
   ],
   "source": [
    "nu = L @ np.random.randn(2, 1000) + mu\n",
    "df_cov = pd.DataFrame(nu.T, columns=['x1', 'x2'])\n",
    "df_cov.plot.scatter(x='x1', y='x2')"
   ]
  },
  {
   "cell_type": "markdown",
   "metadata": {},
   "source": [
    "# end sidetrack"
   ]
  },
  {
   "cell_type": "markdown",
   "metadata": {},
   "source": [
    "## Probability Distributions and Simulation\n",
    "\n",
    "Bayesian inference relies on the use of probability distributions for constructing models. Though several statistical and machine learning packages implement their own set of probability distributions, the NumPy and SciPy libraries include general-purpose functions and classes for performing probability operations. \n",
    "\n",
    "NumPy has an efficient set of random number generators for different distributions, while SciPy implements a large set of complete probability distributions that allow them to be used in most applications."
   ]
  },
  {
   "cell_type": "code",
   "execution_count": 50,
   "metadata": {},
   "outputs": [],
   "source": [
    "from scipy.stats import distributions as dists"
   ]
  },
  {
   "cell_type": "code",
   "execution_count": 51,
   "metadata": {},
   "outputs": [
    {
     "data": {
      "text/plain": [
       "['truncnorm_gen',\n",
       " 'tukeylambda',\n",
       " 'tukeylambda_gen',\n",
       " 'uniform',\n",
       " 'uniform_gen',\n",
       " 'vonmises',\n",
       " 'vonmises_gen',\n",
       " 'vonmises_line',\n",
       " 'wald',\n",
       " 'wald_gen',\n",
       " 'weibull_max',\n",
       " 'weibull_max_gen',\n",
       " 'weibull_min',\n",
       " 'weibull_min_gen',\n",
       " 'wrapcauchy',\n",
       " 'wrapcauchy_gen',\n",
       " 'yulesimon',\n",
       " 'yulesimon_gen',\n",
       " 'zipf',\n",
       " 'zipf_gen']"
      ]
     },
     "execution_count": 51,
     "metadata": {},
     "output_type": "execute_result"
    }
   ],
   "source": [
    "dir(dists)[-20:]"
   ]
  },
  {
   "cell_type": "markdown",
   "metadata": {},
   "source": [
    "Let's look at a gamma distribution as an example:"
   ]
  },
  {
   "cell_type": "code",
   "execution_count": 52,
   "metadata": {},
   "outputs": [],
   "source": [
    "gamma_dist = dists.gamma"
   ]
  },
  {
   "cell_type": "markdown",
   "metadata": {},
   "source": [
    "Inspecting the attributes of `gamma_dist`, we can see several important methods, including `pdf` (probability distribution function), `cdf` (cumulative distribution function), `rvs` (random number generator), and more."
   ]
  },
  {
   "cell_type": "code",
   "execution_count": 53,
   "metadata": {},
   "outputs": [
    {
     "data": {
      "text/plain": [
       "['a',\n",
       " 'b',\n",
       " 'badvalue',\n",
       " 'cdf',\n",
       " 'entropy',\n",
       " 'expect',\n",
       " 'extradoc',\n",
       " 'fit',\n",
       " 'fit_loc_scale',\n",
       " 'freeze',\n",
       " 'generic_moment',\n",
       " 'interval',\n",
       " 'isf',\n",
       " 'logcdf',\n",
       " 'logpdf',\n",
       " 'logsf',\n",
       " 'mean',\n",
       " 'median',\n",
       " 'moment',\n",
       " 'moment_type',\n",
       " 'name',\n",
       " 'nnlf',\n",
       " 'numargs',\n",
       " 'pdf',\n",
       " 'ppf',\n",
       " 'random_state',\n",
       " 'rvs',\n",
       " 'sf',\n",
       " 'shapes',\n",
       " 'stats',\n",
       " 'std',\n",
       " 'support',\n",
       " 'var',\n",
       " 'vecentropy',\n",
       " 'xtol']"
      ]
     },
     "execution_count": 53,
     "metadata": {},
     "output_type": "execute_result"
    }
   ],
   "source": [
    "[f for f in dir(gamma_dist) if not f.startswith('_')]"
   ]
  },
  {
   "cell_type": "markdown",
   "metadata": {},
   "source": [
    "### Exercise: Simulating linear regression\n",
    "\n",
    "1. Generate a (1000, 10) `features` array using a uniform distribution.\n",
    "2. Generate a (10, 1) `weights` array, using a normal distribution with standard deviation 2 and mean 0. Note this is typically unobserved.\n",
    "3. Generate a (1000, 1) `noise` array, using a normal distribution with standard deviation 1 and mean 0. Note that this is typically unobserved.\n",
    "4. Compute (1000, 1) `target` array, as `features @ weights + noise`\n",
    "5. Recover an estimate for the weights using `np.linalg.pinv(features) @ target` (`pinv` is the [Moore-Penrose pseudoinverse](https://en.wikipedia.org/wiki/Moore%E2%80%93Penrose_inverse))\n",
    "6. Our statistical model is \n",
    "$$\n",
    "\\text{weights} \\sim \\mathcal{N}(0, 2) \\\\\n",
    "\\text{target} | \\text{features}, \\text{weights} \\sim \\mathcal{N}(\\text{features} \\cdot \\text{weights}, 1)\n",
    "$$\n",
    "What is the log probability that all the weights are 0, and all the targets are 1, given your generated `features`?\n",
    "7. What is the log probability of your generated `weights` and generated `targets`, given your generated `features`?"
   ]
  },
  {
   "cell_type": "code",
   "execution_count": 86,
   "metadata": {},
   "outputs": [],
   "source": [
    "# Generate a (1000, 10) `features` array using a uniform distribution.\n",
    "features = dists.uniform().rvs(size=(1000, 10))\n",
    "assert features.shape == (1000, 10)"
   ]
  },
  {
   "cell_type": "code",
   "execution_count": 87,
   "metadata": {},
   "outputs": [],
   "source": [
    "# Generate a (10, 1) `weights` array, using a normal distribution with standard deviation 2 and mean 0\n",
    "weights = dists.norm(loc=0, scale=2).rvs((10, 1))\n",
    "assert weights.shape == (10, 1)"
   ]
  },
  {
   "cell_type": "code",
   "execution_count": 88,
   "metadata": {},
   "outputs": [],
   "source": [
    "# Generate a (1000, 1) `noise` array, using a normal distribution with standard deviation 1 and mean 0\n",
    "noise = dists.norm(loc=0, scale=1).rvs((1000, 1))\n",
    "assert noise.shape == (1000, 1)"
   ]
  },
  {
   "cell_type": "code",
   "execution_count": 89,
   "metadata": {},
   "outputs": [],
   "source": [
    "# Compute (1000, 1) `target` array, as `features @ weights + noise`\n",
    "target = features @ weights + noise\n",
    "assert target.shape == (1000, 1)"
   ]
  },
  {
   "cell_type": "code",
   "execution_count": 91,
   "metadata": {},
   "outputs": [],
   "source": [
    "# Recover an estimate for the weights using `np.linalg.pinv(features) @ target`\n",
    "weight_est = np.linalg.pinv(features) @ target\n",
    "assert weight_est.shape == (10, 1)"
   ]
  },
  {
   "cell_type": "code",
   "execution_count": 73,
   "metadata": {},
   "outputs": [
    {
     "data": {
      "text/plain": [
       "array([[-0.12534781],\n",
       "       [-3.88944986],\n",
       "       [-1.8846357 ],\n",
       "       [ 3.59131765],\n",
       "       [-5.05084538],\n",
       "       [ 2.03755973],\n",
       "       [-2.68678186],\n",
       "       [-0.22403035],\n",
       "       [-0.24978183],\n",
       "       [ 0.70270194]])"
      ]
     },
     "execution_count": 73,
     "metadata": {},
     "output_type": "execute_result"
    }
   ],
   "source": [
    "weights"
   ]
  },
  {
   "cell_type": "code",
   "execution_count": 74,
   "metadata": {},
   "outputs": [
    {
     "data": {
      "text/plain": [
       "array([[-0.0745146 ],\n",
       "       [-3.7918562 ],\n",
       "       [-1.91124605],\n",
       "       [ 3.56494746],\n",
       "       [-5.10630334],\n",
       "       [ 2.05713089],\n",
       "       [-2.77119104],\n",
       "       [-0.25923472],\n",
       "       [-0.03895138],\n",
       "       [ 0.53061587]])"
      ]
     },
     "execution_count": 74,
     "metadata": {},
     "output_type": "execute_result"
    }
   ],
   "source": [
    "weight_est"
   ]
  },
  {
   "cell_type": "code",
   "execution_count": 119,
   "metadata": {},
   "outputs": [
    {
     "name": "stdout",
     "output_type": "stream",
     "text": [
      "logp_weights_0.sum() = -16.12085713764618\n",
      "logp_targets_1.sum() = -1418.938533204673\n",
      "logp_total.sum()     = -1435.0593903423191 (0.000000000000000)\n"
     ]
    }
   ],
   "source": [
    "# Compute the log probability that all the weights are 0, and all the targets are 1, given your generated `features`\n",
    "\n",
    "# I dont quite understand this, probably because I'm taking some of it too literally: \n",
    "# 1. all quantities are continuous, so the probability that they take on any particular value is 0... So I assume that what they're asking for is the log probability *density*\n",
    "# 2. weights are not related to targets or features... so what does the 'given generated features' mean for the first? \n",
    "#    - I assume that this is asking for the probability density of the target distribution at target=1, at the point at which weights are 0 and the features are as generated above...\n",
    "\n",
    "rv_weights = dists.norm(loc=0, scale=2)\n",
    "logp_weights_0 = rv_weights.logpdf(np.zeros(weights.shape))\n",
    "print(f'logp_weights_0.sum() = {logp_weights_0.sum()}')\n",
    "\n",
    "rv_conditioned_target_weights0 = dists.norm(loc=0, scale=1) # given weights are 0\n",
    "logp_targets_1 = rv_conditioned_target_weights0.logpdf(np.ones(target.shape))\n",
    "print(f'logp_targets_1.sum() = {logp_targets_1.sum()}')\n",
    "\n",
    "\n",
    "logp_total = logp_weights_0.sum() + logp_targets_1.sum()\n",
    "print(f'logp_total.sum()     = {logp_total.sum()} (p_total: {np.exp(logp_total.sum()):0.15f})')\n"
   ]
  },
  {
   "cell_type": "code",
   "execution_count": 145,
   "metadata": {},
   "outputs": [],
   "source": [
    "# Compute the log probability of your generated `weights` and `targets`, given your generated `features`\n",
    "\n",
    "# This here is assuming the target dist is static across features, which is patently untrue\n",
    "if False:\n",
    "    logp_weights_gen = rv_weights.logpdf(weights)\n",
    "    print(f'logp_weights_gen.sum() = {logp_weights_gen.sum()}')\n",
    "\n",
    "    rv_conditioned_target = dists.norm(loc=features.mean(axis=0) @ weights, scale=1)\n",
    "    logp_targets_gen = rv_conditioned_target.logpdf(target)\n",
    "    print(f'logp_targets_gen.sum() = {logp_targets_gen.sum()}')\n",
    "\n",
    "    #\n",
    "    logp_total_gen = logp_weights_gen.sum() + logp_targets_gen.sum()\n",
    "    print(f'logp_total_gen.sum()     = {logp_total_gen.sum()} (p_total_gen: {np.exp(logp_total_gen.sum()):0.15f})')\n"
   ]
  },
  {
   "cell_type": "code",
   "execution_count": 146,
   "metadata": {},
   "outputs": [
    {
     "name": "stdout",
     "output_type": "stream",
     "text": [
      "logp_weights_gen.sum() = -25.108906125602417\n",
      "logp_targets_gen.sum() = -4454.928193428217\n",
      "logp_total_gen.sum()     = -4480.03709955382 (p_total_gen: 0.000000000000000)\n"
     ]
    }
   ],
   "source": [
    "# Compute the log probability of your generated `weights` and `targets`, given your generated `features`\n",
    "\n",
    "logp_weights_gen = rv_weights.logpdf(weights)\n",
    "print(f'logp_weights_gen.sum() = {logp_weights_gen.sum()}')\n",
    "\n",
    "# compute separate distribution for each feature value\n",
    "logp_targets_gen = np.ones(target.shape) * np.nan\n",
    "for ii, ff in enumerate(features):\n",
    "    frv_conditioned_target = dists.norm(loc=ff @ weights, scale=1)\n",
    "    logp_targets_gen[ii] = rv_conditioned_target.logpdf(target[ii])\n",
    "print(f'logp_targets_gen.sum() = {logp_targets_gen.sum()}')\n",
    "\n",
    "#\n",
    "logp_total_gen = logp_weights_gen.sum() + logp_targets_gen.sum()\n",
    "print(f'logp_total_gen.sum()     = {logp_total_gen.sum()} (p_total_gen: {np.exp(logp_total_gen.sum()):0.15f})')\n"
   ]
  },
  {
   "cell_type": "markdown",
   "metadata": {},
   "source": [
    "Your answer to 5 above should match the answer `scikit-learn` provides:"
   ]
  },
  {
   "cell_type": "code",
   "execution_count": 108,
   "metadata": {},
   "outputs": [],
   "source": [
    "from sklearn.linear_model import LinearRegression\n",
    "\n",
    "sk_model = LinearRegression(fit_intercept=False).fit(features, target)\n",
    "\n",
    "assert (np.abs((sk_model.coef_.T - weight_est)) < 10e-15).all()"
   ]
  },
  {
   "cell_type": "markdown",
   "metadata": {},
   "source": [
    "## Optimisation"
   ]
  },
  {
   "cell_type": "markdown",
   "metadata": {},
   "source": [
    "Another way of running linear regression is via optimization. Suppose we want to minimize the sum of squares using scipy. We can do this using `scipy.optimize`."
   ]
  },
  {
   "cell_type": "code",
   "execution_count": 137,
   "metadata": {},
   "outputs": [],
   "source": [
    "from scipy.optimize import fmin_bfgs\n",
    "\n",
    "features = np.random.uniform(size=(1000, 10))\n",
    "weights = np.random.normal(0, 2, size=(10, 1))\n",
    "noise = np.random.normal(0, 1, size=(1000, 1))\n",
    "target = (features @ weights + noise).flatten()"
   ]
  },
  {
   "cell_type": "markdown",
   "metadata": {},
   "source": [
    "## Exercise: Optimization\n",
    "\n",
    "Find the weights with the least mean squared error using `fmin_bfgs`. It expects a function to minimize and an initial point.\n",
    "\n",
    "1. The function to minimize should accept an argument `x`, and return `((features @ x - target) ** 2).mean()`\n",
    "2. You can initialize with a vector of 10 zeros."
   ]
  },
  {
   "cell_type": "code",
   "execution_count": 138,
   "metadata": {},
   "outputs": [],
   "source": [
    "# Write the function to minimize, and an initial point\n",
    "\n",
    "def loss_function(x):\n",
    "    return ((features @ x - target) ** 2).mean()\n",
    "\n",
    "initial_point = np.zeros(10)\n",
    "\n",
    "assert initial_point.shape == (10,)"
   ]
  },
  {
   "cell_type": "code",
   "execution_count": 139,
   "metadata": {},
   "outputs": [
    {
     "name": "stdout",
     "output_type": "stream",
     "text": [
      "Optimization terminated successfully.\n",
      "         Current function value: 1.016107\n",
      "         Iterations: 16\n",
      "         Function evaluations: 204\n",
      "         Gradient evaluations: 17\n"
     ]
    },
    {
     "data": {
      "text/plain": [
       "array([-1.33036949, -2.15127796,  5.67184943,  0.94301447,  1.80999278,\n",
       "       -0.73145563,  1.42547132, -5.19782171, -0.87893243,  0.67636074])"
      ]
     },
     "execution_count": 139,
     "metadata": {},
     "output_type": "execute_result"
    }
   ],
   "source": [
    "min_x = fmin_bfgs(loss_function, initial_point)\n",
    "min_x"
   ]
  },
  {
   "cell_type": "markdown",
   "metadata": {},
   "source": [
    "This answer should match our solution using linear algebra, or using scikit-learn:"
   ]
  },
  {
   "cell_type": "code",
   "execution_count": 140,
   "metadata": {},
   "outputs": [
    {
     "data": {
      "text/plain": [
       "array([-1.33039925, -2.1512311 ,  5.6718321 ,  0.94298219,  1.80999828,\n",
       "       -0.73146056,  1.42546221, -5.19777466, -0.87891275,  0.67633647])"
      ]
     },
     "execution_count": 140,
     "metadata": {},
     "output_type": "execute_result"
    }
   ],
   "source": [
    "np.linalg.pinv(features) @ target"
   ]
  },
  {
   "cell_type": "code",
   "execution_count": 141,
   "metadata": {},
   "outputs": [
    {
     "data": {
      "text/plain": [
       "array([-1.33039925, -2.1512311 ,  5.6718321 ,  0.94298219,  1.80999828,\n",
       "       -0.73146056,  1.42546221, -5.19777466, -0.87891275,  0.67633647])"
      ]
     },
     "execution_count": 141,
     "metadata": {},
     "output_type": "execute_result"
    }
   ],
   "source": [
    "from sklearn.linear_model import LinearRegression\n",
    "\n",
    "LinearRegression(fit_intercept=False).fit(features, target).coef_.T"
   ]
  },
  {
   "cell_type": "code",
   "execution_count": null,
   "metadata": {},
   "outputs": [],
   "source": []
  }
 ],
 "metadata": {
  "kernelspec": {
   "display_name": "Python 3",
   "language": "python",
   "name": "python3"
  },
  "language_info": {
   "codemirror_mode": {
    "name": "ipython",
    "version": 3
   },
   "file_extension": ".py",
   "mimetype": "text/x-python",
   "name": "python",
   "nbconvert_exporter": "python",
   "pygments_lexer": "ipython3",
   "version": "3.7.3"
  }
 },
 "nbformat": 4,
 "nbformat_minor": 4
}
