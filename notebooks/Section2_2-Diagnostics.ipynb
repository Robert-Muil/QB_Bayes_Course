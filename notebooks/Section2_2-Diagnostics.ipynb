{
 "cells": [
  {
   "cell_type": "code",
   "execution_count": 1,
   "metadata": {},
   "outputs": [],
   "source": [
    "import matplotlib.pyplot as plt\n",
    "import numpy as np\n",
    "import scipy.stats as st\n",
    "import pymc3 as pm\n",
    "import theano.tensor as tt\n",
    "import arviz"
   ]
  },
  {
   "cell_type": "code",
   "execution_count": 2,
   "metadata": {},
   "outputs": [],
   "source": [
    "plt.rcParams.update({\n",
    "    \"axes.prop_cycle\": plt.cycler(\"color\", ['#000000', '#1b6989', '#e69f00', '#009e73', '#f0e442', '#50b4e9', '#d55e00', '#cc79a7']),\n",
    "    \"figure.figsize\": [12.0, 5.0],\n",
    "    \"font.serif\": ['Palatino',\n",
    "                   'Palatino Linotype',\n",
    "                   'Palatino LT STD',\n",
    "                   'Book Antiqua',\n",
    "                   'Georgia',\n",
    "                   'DejaVu Serif'],\n",
    "    'font.family': 'serif',\n",
    "    'figure.facecolor': '#fffff8',\n",
    "    'axes.facecolor': '#fffff8',\n",
    "    'figure.constrained_layout.use': True,\n",
    "    'font.size': 14.0,\n",
    "    'hist.bins': 'auto',\n",
    "    'lines.linewidth': 3.0,\n",
    "    'lines.markeredgewidth': 2.0,\n",
    "    'lines.markerfacecolor': 'none',\n",
    "    'lines.markersize': 8.0, \n",
    "})"
   ]
  },
  {
   "cell_type": "markdown",
   "metadata": {},
   "source": [
    "# Basic Diagnostics\n",
    "\n",
    "This is a quick overview to a few diagnostics:\n",
    "\n",
    "- Traceplot\n",
    "- Divergences\n",
    "- Effective Sample Size\n",
    "- r-hat\n",
    "\n",
    "## Traceplot \n",
    "\n",
    "This is a simple plot that is a good quick check to make sure nothing is obviously wrong. We have done some work with step size tuning for Metropolis-Hastings, and that is a good jumping off point for a quiz on whether your step size is too small, too large, pretty good, or if it is actually independent samples: [quiz here](https://canyon289.github.io/bayesian-model-evaluation/lessonplans/mcmc_basics/#/14)\n",
    "\n",
    "## Divergences\n",
    "\n",
    "Hamiltonian Monte Carlo (NUTS is a flavor of this) does some numerical integration. When the integration goes wrong, it can go a lot wrong. This is sometimes considered a feature! There may be parts of the posterior which are hard to explore for geometric reasons. Two ways of solving divergences are\n",
    "\n",
    "1. **Set a higher \"target accept\" rate**: Similarly (but not the same) as for Metropolis-Hastings, larger integrator steps lead to lower acceptance rates. A higher `target_accept` will generally cause a smaller step size, and more accurate integration.\n",
    "2. **Reparametrize**: If you can write your model in a different way that has the same joint probability density, you might do that. A lot of work is being done to automate this, since it requires careful work, and one goal of a probabilistic programming language is to iterate quickly. See [Autoconj: Recognizing and Exploiting Conjugacy Without a Domain-Specific Language](https://arxiv.org/abs/1811.11926)(Hoffmann, Johnson, Tran), [Automatic Reparameterisation of Probabilistic Programs](https://arxiv.org/abs/1906.03028)(Gorinova, Moore, Hoffmann). There is work on this also in [symbolic pymc](https://github.com/pymc-devs/symbolic-pymc).\n",
    "\n",
    "You should be wary of a trace that contains divergences, and give thought to how to fix them (though we all sometimes use those traces anyways).\n",
    "\n",
    "### Divergence example\n",
    "\n",
    "Neal's funnel is a famous example of a difficult geometry:"
   ]
  },
  {
   "cell_type": "code",
   "execution_count": 3,
   "metadata": {},
   "outputs": [
    {
     "name": "stderr",
     "output_type": "stream",
     "text": [
      "Auto-assigning NUTS sampler...\n",
      "Initializing NUTS using jitter+adapt_diag...\n",
      "/home/colin/miniconda3/envs/bayes_course/lib/python3.6/site-packages/theano/tensor/basic.py:6611: FutureWarning: Using a non-tuple sequence for multidimensional indexing is deprecated; use `arr[tuple(seq)]` instead of `arr[seq]`. In the future this will be interpreted as an array index, `arr[np.array(seq)]`, which will result either in an error or a different result.\n",
      "  result[diagonal_slice] = x\n",
      "/home/colin/miniconda3/envs/bayes_course/lib/python3.6/site-packages/theano/tensor/basic.py:6611: FutureWarning: Using a non-tuple sequence for multidimensional indexing is deprecated; use `arr[tuple(seq)]` instead of `arr[seq]`. In the future this will be interpreted as an array index, `arr[np.array(seq)]`, which will result either in an error or a different result.\n",
      "  result[diagonal_slice] = x\n",
      "/home/colin/miniconda3/envs/bayes_course/lib/python3.6/site-packages/theano/tensor/basic.py:6611: FutureWarning: Using a non-tuple sequence for multidimensional indexing is deprecated; use `arr[tuple(seq)]` instead of `arr[seq]`. In the future this will be interpreted as an array index, `arr[np.array(seq)]`, which will result either in an error or a different result.\n",
      "  result[diagonal_slice] = x\n",
      "/home/colin/miniconda3/envs/bayes_course/lib/python3.6/site-packages/theano/tensor/basic.py:6611: FutureWarning: Using a non-tuple sequence for multidimensional indexing is deprecated; use `arr[tuple(seq)]` instead of `arr[seq]`. In the future this will be interpreted as an array index, `arr[np.array(seq)]`, which will result either in an error or a different result.\n",
      "  result[diagonal_slice] = x\n",
      "Multiprocess sampling (4 chains in 4 jobs)\n",
      "NUTS: [x_vec, v]\n",
      "Sampling 4 chains:   0%|          | 0/4000 [00:00<?, ?draws/s]/home/colin/miniconda3/envs/bayes_course/lib/python3.6/site-packages/theano/tensor/basic.py:6611: FutureWarning: Using a non-tuple sequence for multidimensional indexing is deprecated; use `arr[tuple(seq)]` instead of `arr[seq]`. In the future this will be interpreted as an array index, `arr[np.array(seq)]`, which will result either in an error or a different result.\n",
      "  result[diagonal_slice] = x\n",
      "/home/colin/miniconda3/envs/bayes_course/lib/python3.6/site-packages/theano/tensor/basic.py:6611: FutureWarning: Using a non-tuple sequence for multidimensional indexing is deprecated; use `arr[tuple(seq)]` instead of `arr[seq]`. In the future this will be interpreted as an array index, `arr[np.array(seq)]`, which will result either in an error or a different result.\n",
      "  result[diagonal_slice] = x\n",
      "/home/colin/miniconda3/envs/bayes_course/lib/python3.6/site-packages/theano/tensor/basic.py:6611: FutureWarning: Using a non-tuple sequence for multidimensional indexing is deprecated; use `arr[tuple(seq)]` instead of `arr[seq]`. In the future this will be interpreted as an array index, `arr[np.array(seq)]`, which will result either in an error or a different result.\n",
      "  result[diagonal_slice] = x\n",
      "/home/colin/miniconda3/envs/bayes_course/lib/python3.6/site-packages/theano/tensor/basic.py:6611: FutureWarning: Using a non-tuple sequence for multidimensional indexing is deprecated; use `arr[tuple(seq)]` instead of `arr[seq]`. In the future this will be interpreted as an array index, `arr[np.array(seq)]`, which will result either in an error or a different result.\n",
      "  result[diagonal_slice] = x\n",
      "Sampling 4 chains: 100%|██████████| 4000/4000 [00:03<00:00, 1225.68draws/s]\n",
      "There were 21 divergences after tuning. Increase `target_accept` or reparameterize.\n",
      "There were 25 divergences after tuning. Increase `target_accept` or reparameterize.\n",
      "There were 66 divergences after tuning. Increase `target_accept` or reparameterize.\n",
      "The acceptance probability does not match the target. It is 0.592031786942526, but should be close to 0.8. Try to increase the number of tuning steps.\n",
      "There were 51 divergences after tuning. Increase `target_accept` or reparameterize.\n",
      "The acceptance probability does not match the target. It is 0.6454181211391722, but should be close to 0.8. Try to increase the number of tuning steps.\n",
      "The gelman-rubin statistic is larger than 1.05 for some parameters. This indicates slight problems during sampling.\n",
      "The estimated number of effective samples is smaller than 200 for some parameters.\n"
     ]
    }
   ],
   "source": [
    "def neals_funnel(dims=1):\n",
    "    with pm.Model() as funnel:\n",
    "        v = pm.Normal('v', 0, 3)\n",
    "        x_vec = pm.MvNormal('x_vec', mu=tt.zeros(dims), cov=2 * tt.exp(v) * tt.eye(dims), shape=dims)\n",
    "    return funnel\n",
    "\n",
    "with neals_funnel():\n",
    "    trace = pm.sample()"
   ]
  },
  {
   "cell_type": "code",
   "execution_count": 4,
   "metadata": {},
   "outputs": [
    {
     "data": {
      "image/png": "[encoded data removed]",
      "text/plain": [
       "<Figure size 864x360 with 4 Axes>"
      ]
     },
     "metadata": {},
     "output_type": "display_data"
    }
   ],
   "source": [
    "pm.plot_joint(trace);"
   ]
  },
  {
   "cell_type": "markdown",
   "metadata": {},
   "source": [
    "## Effective Sample Size\n",
    "\n",
    "Given a series of samples $x_j$, the empirical mean is\n",
    "\n",
    "$$\n",
    "\\hat{\\mu} = \\frac{1}{n}\\sum_{j=1}^n x_j\n",
    "$$\n",
    "\n",
    "and the variance of the estimate of the empirical mean is \n",
    "\n",
    "$$\n",
    "\\operatorname{Var}(\\hat{\\mu}) = \\frac{\\sigma^2}{n},\n",
    "$$\n",
    "where $\\sigma^2$ is the true variance of the underlying distribution.\n",
    "\n",
    "Then the effective sample size is defined as the denominator that makes this relationship still be true:\n",
    "\n",
    "$$\n",
    "\\operatorname{Var}(\\hat{\\mu}) = \\frac{\\sigma^2}{n_{\\text{eff}}}.\n",
    "$$\n",
    "\n",
    "This quantity is difficult to compute: you might use multiple chains to estimate $\\operatorname{Var}(\\hat{\\mu})$, and estimating $\\sigma^2$ is sort of the point of all this MCMC. There is a great recent paper giving details: [Rank-normalization, folding, and localization: An improved $\\hat{R}$ for assessing convergence of MCMC](https://arxiv.org/abs/1903.08008)(Vehtari, Gelman, Simpson, Carpenter, Bürkner).\n",
    "\n",
    "## $\\hat{R}$\n",
    "\n",
    "Roughly, $\\hat{R}$ (\"r-hat\", \"R-Hat\", \"Gelman-Rubin statistic\") is the ratio of between-chain variance to within-chain variance. In practice, you compare a number of different measures of variance with eachother (first half of chain with second half, for example). This number should be *very* close to 1. Most libraries will let you know if it is not.\n",
    "\n",
    "## Closing advice\n",
    "\n",
    "Run at least 4 chains for your experiments, and pay attention to the indications your model had trouble fitting. These are problems with the inference algorithm, but now you have to worry about them!\n",
    "\n"
   ]
  },
  {
   "cell_type": "code",
   "execution_count": 5,
   "metadata": {},
   "outputs": [
    {
     "name": "stderr",
     "output_type": "stream",
     "text": [
      "/home/colin/miniconda3/envs/bayes_course/lib/python3.6/site-packages/pymc3/stats.py:991: FutureWarning: The join_axes-keyword is deprecated. Use .reindex or .reindex_like on the result to achieve the same functionality.\n",
      "  axis=1, join_axes=[dforg.index])\n"
     ]
    },
    {
     "data": {
      "text/html": [
       "<div>\n",
       "<style scoped>\n",
       "    .dataframe tbody tr th:only-of-type {\n",
       "        vertical-align: middle;\n",
       "    }\n",
       "\n",
       "    .dataframe tbody tr th {\n",
       "        vertical-align: top;\n",
       "    }\n",
       "\n",
       "    .dataframe thead th {\n",
       "        text-align: right;\n",
       "    }\n",
       "</style>\n",
       "<table border=\"1\" class=\"dataframe\">\n",
       "  <thead>\n",
       "    <tr style=\"text-align: right;\">\n",
       "      <th></th>\n",
       "      <th>mean</th>\n",
       "      <th>sd</th>\n",
       "      <th>mc_error</th>\n",
       "      <th>hpd_2.5</th>\n",
       "      <th>hpd_97.5</th>\n",
       "      <th>n_eff</th>\n",
       "      <th>Rhat</th>\n",
       "    </tr>\n",
       "  </thead>\n",
       "  <tbody>\n",
       "    <tr>\n",
       "      <td>v</td>\n",
       "      <td>0.726435</td>\n",
       "      <td>2.278607</td>\n",
       "      <td>0.153198</td>\n",
       "      <td>-3.001186</td>\n",
       "      <td>5.388170</td>\n",
       "      <td>87.158266</td>\n",
       "      <td>1.055247</td>\n",
       "    </tr>\n",
       "    <tr>\n",
       "      <td>x_vec__0</td>\n",
       "      <td>0.952536</td>\n",
       "      <td>7.104733</td>\n",
       "      <td>0.511150</td>\n",
       "      <td>-8.622871</td>\n",
       "      <td>16.259253</td>\n",
       "      <td>58.358113</td>\n",
       "      <td>1.033224</td>\n",
       "    </tr>\n",
       "  </tbody>\n",
       "</table>\n",
       "</div>"
      ],
      "text/plain": [
       "              mean        sd  mc_error   hpd_2.5   hpd_97.5      n_eff  \\\n",
       "v         0.726435  2.278607  0.153198 -3.001186   5.388170  87.158266   \n",
       "x_vec__0  0.952536  7.104733  0.511150 -8.622871  16.259253  58.358113   \n",
       "\n",
       "              Rhat  \n",
       "v         1.055247  \n",
       "x_vec__0  1.033224  "
      ]
     },
     "execution_count": 5,
     "metadata": {},
     "output_type": "execute_result"
    }
   ],
   "source": [
    "pm.summary(trace)"
   ]
  },
  {
   "cell_type": "markdown",
   "metadata": {},
   "source": [
    "### Exercises\n",
    "\n",
    "1. There are a few warnings PyMC3 throws with the funnel model. `pm.summary` recovers a few. There are methods on the `trace` object that let you find the others yourself.\n",
    "2. Look up the centered eight schools model, and the non-centered eight schools model. The first had divergences, and the centering vs non-centering is a common reparameterization strategy\n",
    "3. `plot_parallel` is a way to try to visualize where your divergences occur, so you might get a clue as to how to reparametrize. Also `traceplot` will mark the location of divergences."
   ]
  },
  {
   "cell_type": "code",
   "execution_count": null,
   "metadata": {},
   "outputs": [],
   "source": []
  }
 ],
 "metadata": {
  "kernelspec": {
   "display_name": "Python 3",
   "language": "python",
   "name": "python3"
  },
  "language_info": {
   "codemirror_mode": {
    "name": "ipython",
    "version": 3
   },
   "file_extension": ".py",
   "mimetype": "text/x-python",
   "name": "python",
   "nbconvert_exporter": "python",
   "pygments_lexer": "ipython3",
   "version": "3.6.7"
  }
 },
 "nbformat": 4,
 "nbformat_minor": 4
}
